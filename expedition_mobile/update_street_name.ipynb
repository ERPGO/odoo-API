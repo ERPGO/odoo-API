streetname = 'Nizami 75'
streetname_link = streetname.replace(" ", "+")
hyperlink = '<p><a href="https://maps.google.com/maps?z=8&amp;q={streetname_link}+Azerbaijan">{streetname}</a></p>'.format(streetname_link=streetname_link, streetname=streetname)
proof.write({'x_studio_google_map_location': hyperlink})
